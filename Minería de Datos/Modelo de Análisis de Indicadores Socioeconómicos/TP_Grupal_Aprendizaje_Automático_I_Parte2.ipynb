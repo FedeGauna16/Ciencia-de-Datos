{
  "nbformat": 4,
  "nbformat_minor": 0,
  "metadata": {
    "colab": {
      "private_outputs": true,
      "provenance": [],
      "collapsed_sections": [
        "14T6mxLQxVqZ"
      ]
    },
    "kernelspec": {
      "name": "python3",
      "display_name": "Python 3"
    },
    "language_info": {
      "name": "python"
    }
  },
  "cells": [
    {
      "cell_type": "code",
      "execution_count": null,
      "metadata": {
        "id": "0i1F83jHhPVl"
      },
      "outputs": [],
      "source": [
        "from google.colab import drive\n",
        "drive.mount('/content/drive')"
      ]
    },
    {
      "cell_type": "code",
      "source": [
        "import pandas as pd\n",
        "import numpy as np\n",
        "import sklearn as skl\n",
        "import matplotlib.pyplot as plt\n",
        "import seaborn as sns\n",
        "\n",
        "# import preproccesing libraries\n",
        "from sklearn import preprocessing\n",
        "from sklearn.linear_model import LinearRegression\n",
        "\n",
        "# import  ML models\n",
        "from sklearn.model_selection import train_test_split\n",
        "\n",
        "# import metrics\n",
        "from sklearn.metrics import mean_absolute_error\n",
        "from sklearn.metrics import mean_squared_error\n",
        "from sklearn.metrics import r2_score\n",
        "from sklearn import metrics\n",
        "\n",
        "# import visualization's libraries\n",
        "import graphviz\n",
        "import pydot\n",
        "from sklearn.tree import plot_tree\n",
        "\n",
        "data = pd.read_excel('/content/drive/MyDrive/Tabla_GDP_1parcial.xlsx')"
      ],
      "metadata": {
        "id": "qOZuf5uyiRDR"
      },
      "execution_count": null,
      "outputs": []
    },
    {
      "cell_type": "code",
      "source": [
        "df=pd.DataFrame(data)\n",
        "df"
      ],
      "metadata": {
        "id": "Q6FHLt1VjnZG"
      },
      "execution_count": null,
      "outputs": []
    },
    {
      "cell_type": "code",
      "source": [
        "df[['illiteracy','birth_mortal']]"
      ],
      "metadata": {
        "id": "Lyl8ifNLjqaa"
      },
      "execution_count": null,
      "outputs": []
    },
    {
      "cell_type": "markdown",
      "source": [
        "#Preprocesamiento"
      ],
      "metadata": {
        "id": "JG04l3rWj3QO"
      }
    },
    {
      "cell_type": "code",
      "source": [
        "df.isnull().sum()"
      ],
      "metadata": {
        "id": "lQ5_Aeoaj0i0"
      },
      "execution_count": null,
      "outputs": []
    },
    {
      "cell_type": "code",
      "source": [
        "df.dtypes"
      ],
      "metadata": {
        "id": "WgMobfQ6j-L_"
      },
      "execution_count": null,
      "outputs": []
    },
    {
      "cell_type": "code",
      "source": [
        "means = df.select_dtypes(include='float64').mean()\n",
        "\n",
        "# Rellenar los valores nulos con la media de cada columna\n",
        "df.fillna(means, inplace=True)"
      ],
      "metadata": {
        "id": "eeKNqb0mj_9H"
      },
      "execution_count": null,
      "outputs": []
    },
    {
      "cell_type": "code",
      "source": [
        "df.isnull().sum()"
      ],
      "metadata": {
        "id": "6bWfwymXkCF3"
      },
      "execution_count": null,
      "outputs": []
    },
    {
      "cell_type": "code",
      "source": [
        "from sklearn.preprocessing import StandardScaler\n",
        "scaler=StandardScaler()\n",
        "df[['illiteracy','birth_mortal']]=scaler.fit_transform(df[['illiteracy','birth_mortal']])\n",
        "df"
      ],
      "metadata": {
        "id": "Kv4cbylZkDek"
      },
      "execution_count": null,
      "outputs": []
    },
    {
      "cell_type": "markdown",
      "source": [
        "#Modelos de Regresión"
      ],
      "metadata": {
        "id": "ioYn6r7Ckl8Q"
      }
    },
    {
      "cell_type": "code",
      "source": [
        "#Split de los datos en los conjuntos de entrenamiento y testeo\n",
        "from sklearn.model_selection import train_test_split\n",
        "x=pd.DataFrame(df,columns=['birth_mortal'])      # Variable observable\n",
        "y=pd.DataFrame(df,columns=['illiteracy']) # Variable Objetivo\n",
        "\n",
        "#Particion del dataset con 40% datos para el conjunto de testing, 60% entrenamiento\n",
        "x_train,x_test,y_train,y_test=train_test_split(x,y,test_size=0.4, random_state=1)"
      ],
      "metadata": {
        "id": "MCbwJ5sYlKjQ"
      },
      "execution_count": null,
      "outputs": []
    },
    {
      "cell_type": "code",
      "source": [
        "print(\"x_train shape:\",x_train.shape)\n",
        "print(\"y_train shape:\",y_train.shape)\n",
        "print(\"x_test shape:\",x_test.shape)\n",
        "print(\"y_test shape:\",y_test.shape)\n",
        "y_test"
      ],
      "metadata": {
        "id": "Tv-kC-S-xX7u"
      },
      "execution_count": null,
      "outputs": []
    },
    {
      "cell_type": "code",
      "source": [
        "plt.scatter(x,y)\n",
        "plt.xlabel('birth_mortal')\n",
        "plt.ylabel('illiteracy')\n",
        "plt.title('Grafico de dispersión')\n",
        "plt.show()"
      ],
      "metadata": {
        "id": "GGrA4vV1w2Hh"
      },
      "execution_count": null,
      "outputs": []
    },
    {
      "cell_type": "markdown",
      "source": [
        "## Modelo de Regresión Linear"
      ],
      "metadata": {
        "id": "14T6mxLQxVqZ"
      }
    },
    {
      "cell_type": "code",
      "source": [
        "model=LinearRegression()\n",
        "model.fit(x_train, y_train)\n",
        "\n",
        "predictions=model.predict(x_test)\n",
        "predictions"
      ],
      "metadata": {
        "id": "C7Hqu8syxU_1"
      },
      "execution_count": null,
      "outputs": []
    },
    {
      "cell_type": "code",
      "source": [
        "a=model.coef_\n",
        "print(\"El valor del coeficiente es: \", a )\n",
        "b=model.intercept_\n",
        "print(\"El valor del término independiente es:\", b)"
      ],
      "metadata": {
        "id": "wDn9E6EMxaH9"
      },
      "execution_count": null,
      "outputs": []
    },
    {
      "cell_type": "code",
      "source": [
        "plt.scatter(x_test,predictions)\n",
        "plt.plot(x_test,predictions,'r')\n",
        "plt.xlabel('x_test')\n",
        "plt.ylabel('Prediction')\n",
        "plt.title('Recta de regresión lineal')\n",
        "plt.show()"
      ],
      "metadata": {
        "id": "PnccyHa6xl5P"
      },
      "execution_count": null,
      "outputs": []
    },
    {
      "cell_type": "code",
      "source": [
        "d = {'valores reales': y_test['illiteracy'], 'valores predichos': predictions.flatten()}\n",
        "df_prediccion=pd.DataFrame(data=d)\n",
        "df_prediccion"
      ],
      "metadata": {
        "id": "ghkGTj5lxx4c"
      },
      "execution_count": null,
      "outputs": []
    },
    {
      "cell_type": "code",
      "source": [
        "mae=mean_absolute_error(y_test,predictions)\n",
        "mse=mean_squared_error(y_test,predictions)\n",
        "rmse=mse**(1/2.0)\n",
        "\n",
        "# El Error absoluto promedio\n",
        "print(\"The mean absolte error (MAE) on test set: {:.5f}\".format(mae))\n",
        "\n",
        "# Error cuadrático promedio\n",
        "print(\"The mean squared error (MSE) on test set: {:.4f}\".format(mse))\n",
        "\n",
        "# Raiz cuadrada del error cuadrático medio\n",
        "print(\"The root mean squared error (RMSE) on test set: {:.4f}\".format(rmse)) # raiz cuadrada del error cuadratico medio\n",
        "\n",
        "# R2 Puntaje de Varianza. El mejor puntaje es un 1.0\n",
        "print('Variance score: %.2f' % r2_score(y_test,predictions))"
      ],
      "metadata": {
        "id": "uL-QFrNOx4do"
      },
      "execution_count": null,
      "outputs": []
    },
    {
      "cell_type": "markdown",
      "source": [
        "#Modelo de Regresión Polinómica"
      ],
      "metadata": {
        "id": "YuWkHYHexd3A"
      }
    },
    {
      "cell_type": "markdown",
      "source": [
        "###Polinómio de grado 2"
      ],
      "metadata": {
        "id": "0gUbveWQiAyA"
      }
    },
    {
      "cell_type": "code",
      "source": [
        "from sklearn.preprocessing import PolynomialFeatures\n",
        "\n",
        "transformer=PolynomialFeatures(degree=2, include_bias=False)\n",
        "x_poly=transformer.fit_transform(x_train)"
      ],
      "metadata": {
        "id": "BTU3IkruxihR"
      },
      "execution_count": null,
      "outputs": []
    },
    {
      "cell_type": "code",
      "source": [
        "model2=LinearRegression()\n",
        "\n",
        "model2.fit(x_poly,y_train)\n",
        "x_new_poly=transformer.fit_transform(x_test)"
      ],
      "metadata": {
        "id": "IplumEgldgs_"
      },
      "execution_count": null,
      "outputs": []
    },
    {
      "cell_type": "code",
      "source": [
        "predictions2=model2.predict(x_new_poly)\n",
        "predictions2"
      ],
      "metadata": {
        "id": "cIyJu7xifrzo"
      },
      "execution_count": null,
      "outputs": []
    },
    {
      "cell_type": "code",
      "source": [
        "x_fit=np.linspace(1,8,10)\n",
        "x_fit_poly=transformer.transform(x_fit.reshape(-1,1))\n",
        "y_fit=model2.predict(x_fit_poly)"
      ],
      "metadata": {
        "id": "LrcOuqttgFy-"
      },
      "execution_count": null,
      "outputs": []
    },
    {
      "cell_type": "code",
      "source": [
        "plt.scatter(x,y)\n",
        "plt.plot(x_fit,y_fit, label=\"Regrsion grd 2\", color='red')\n",
        "plt.xlabel('x_test')\n",
        "plt.ylabel('Prediction')\n",
        "plt.title('Grafico de dispersión')\n",
        "plt.show()"
      ],
      "metadata": {
        "id": "-M7bOoLmf_SA"
      },
      "execution_count": null,
      "outputs": []
    },
    {
      "cell_type": "code",
      "source": [
        "a0=model2.intercept_\n",
        "a1=model2.coef_.flatten()[0:1]\n",
        "a2=model2.coef_.flatten()[1:2]\n",
        "print(\"la ecuacion polinómica es y=\",a2,\"*x^2 +\",a1,\"x +\",a0)"
      ],
      "metadata": {
        "id": "ADnjkZ6EJc_E"
      },
      "execution_count": null,
      "outputs": []
    },
    {
      "cell_type": "code",
      "source": [
        "d2 = {'valores reales': y_test['illiteracy'], 'valores predichos': predictions2.flatten()}\n",
        "df_prediccion2=pd.DataFrame(data=d2)\n",
        "df_prediccion2"
      ],
      "metadata": {
        "id": "wrPySy1Cgc3t"
      },
      "execution_count": null,
      "outputs": []
    },
    {
      "cell_type": "code",
      "source": [
        "mae=mean_absolute_error(y_test,predictions2)\n",
        "mse=mean_squared_error(y_test,predictions2)\n",
        "rmse=mse**(1/2.0)\n",
        "# El Error absoluto promedio\n",
        "print(\"The mean absolte error (MAE) on test set: {:.5f}\".format(mae))\n",
        "\n",
        "# Error cuadrático promedio\n",
        "print(\"The mean squared error (MSE) on test set: {:.4f}\".format(mse))\n",
        "\n",
        "# Raiz cuadrada del error cuadrático medio\n",
        "print(\"The root mean squared error (RMSE) on test set: {:.4f}\".format(rmse)) # raiz cuadrada del error cuadratico medio\n",
        "\n",
        "# R2 Puntaje de Varianza. El mejor puntaje es un 1.0\n",
        "print('Variance score: %.2f' % r2_score(y_test,predictions2))"
      ],
      "metadata": {
        "id": "bbyFPNbFhsmq"
      },
      "execution_count": null,
      "outputs": []
    },
    {
      "cell_type": "markdown",
      "source": [
        "###Polinómio de grado 3"
      ],
      "metadata": {
        "id": "gcWyBSWLiHjy"
      }
    },
    {
      "cell_type": "code",
      "source": [
        "transformer2=PolynomialFeatures(degree=3, include_bias=False)\n",
        "x_poly2=transformer2.fit_transform(x_train)"
      ],
      "metadata": {
        "id": "UUTcZI7hiNeW"
      },
      "execution_count": null,
      "outputs": []
    },
    {
      "cell_type": "code",
      "source": [
        "model3=LinearRegression()\n",
        "\n",
        "model3.fit(x_poly2,y_train)\n",
        "x_new_poly2=transformer2.fit_transform(x_test)"
      ],
      "metadata": {
        "id": "uuMOOJgMiUu0"
      },
      "execution_count": null,
      "outputs": []
    },
    {
      "cell_type": "code",
      "source": [
        "predictions3=model3.predict(x_new_poly2)\n",
        "predictions3"
      ],
      "metadata": {
        "id": "37AtxeB-iXXb"
      },
      "execution_count": null,
      "outputs": []
    },
    {
      "cell_type": "code",
      "source": [
        "x_fit=np.linspace(1,8,10)\n",
        "x_fit_poly=transformer2.transform(x_fit.reshape(-1,1))\n",
        "y_fit=model3.predict(x_fit_poly)"
      ],
      "metadata": {
        "id": "p25nePNNibOs"
      },
      "execution_count": null,
      "outputs": []
    },
    {
      "cell_type": "code",
      "source": [
        "plt.scatter(x,y)\n",
        "plt.plot(x_fit,y_fit, label=\"Regrsion grd 3\", color='red')\n",
        "plt.xlabel('x_test')\n",
        "plt.ylabel('Prediction')\n",
        "plt.title('Grafico de dispersión')\n",
        "plt.show()"
      ],
      "metadata": {
        "id": "5_XpPJDjiiHt"
      },
      "execution_count": null,
      "outputs": []
    },
    {
      "cell_type": "code",
      "source": [
        "a0=model3.intercept_\n",
        "a1=model3.coef_.flatten()[0:1]\n",
        "a2=model3.coef_.flatten()[1:2]\n",
        "a3=model3.coef_.flatten()[2:3]\n",
        "print(\"la ecuacion polinómica es y = \",a3,\"*x^3 +\",a2,\"*x^2 +\",a1,\"x +\",a0)"
      ],
      "metadata": {
        "id": "vJOurQM2K6HO"
      },
      "execution_count": null,
      "outputs": []
    },
    {
      "cell_type": "code",
      "source": [
        "d3 = {'valores reales': y_test['illiteracy'], 'valores predichos': predictions3.flatten()}\n",
        "df_prediccion3=pd.DataFrame(data=d3)\n",
        "df_prediccion3"
      ],
      "metadata": {
        "id": "dq9E0Nx5ikjW"
      },
      "execution_count": null,
      "outputs": []
    },
    {
      "cell_type": "code",
      "source": [
        "mae=mean_absolute_error(y_test,predictions3)\n",
        "mse=mean_squared_error(y_test,predictions3)\n",
        "rmse=mse**(1/2.0)\n",
        "# El Error absoluto promedio\n",
        "print(\"The mean absolte error (MAE) on test set: {:.5f}\".format(mae))\n",
        "\n",
        "# Error cuadrático promedio\n",
        "print(\"The mean squared error (MSE) on test set: {:.4f}\".format(mse))\n",
        "\n",
        "# Raiz cuadrada del error cuadrático medio\n",
        "print(\"The root mean squared error (RMSE) on test set: {:.4f}\".format(rmse)) # raiz cuadrada del error cuadratico medio\n",
        "\n",
        "# R2 Puntaje de Varianza. El mejor puntaje es un 1.0\n",
        "print('Variance score: %.2f' % r2_score(y_test,predictions3))"
      ],
      "metadata": {
        "id": "iKSicRPYiyZc"
      },
      "execution_count": null,
      "outputs": []
    },
    {
      "cell_type": "markdown",
      "source": [
        "###Polinómio de grado 4"
      ],
      "metadata": {
        "id": "nrtoYTtai6QX"
      }
    },
    {
      "cell_type": "code",
      "source": [
        "transformer3=PolynomialFeatures(degree=4, include_bias=False)\n",
        "x_poly3=transformer3.fit_transform(x_train)"
      ],
      "metadata": {
        "id": "0cgczBk-i8Qv"
      },
      "execution_count": null,
      "outputs": []
    },
    {
      "cell_type": "code",
      "source": [
        "model4=LinearRegression()\n",
        "\n",
        "model4.fit(x_poly3,y_train)\n",
        "x_new_poly3=transformer3.fit_transform(x_test)"
      ],
      "metadata": {
        "id": "18dGVOmi9oou"
      },
      "execution_count": null,
      "outputs": []
    },
    {
      "cell_type": "code",
      "source": [
        "predictions4=model4.predict(x_new_poly3)\n",
        "predictions4"
      ],
      "metadata": {
        "id": "4TQcH8fG9rdu"
      },
      "execution_count": null,
      "outputs": []
    },
    {
      "cell_type": "code",
      "source": [
        "x_fit=np.linspace(1,8,10)\n",
        "x_fit_poly=transformer3.transform(x_fit.reshape(-1,1))\n",
        "y_fit=model4.predict(x_fit_poly)"
      ],
      "metadata": {
        "id": "RKu5X7Ya9vmn"
      },
      "execution_count": null,
      "outputs": []
    },
    {
      "cell_type": "code",
      "source": [
        "plt.scatter(x,y)\n",
        "plt.plot(x_fit,y_fit, label=\"Regrsion grd 4\", color='red')\n",
        "plt.xlabel('x_test')\n",
        "plt.ylabel('Prediction')\n",
        "plt.title('Grafico de dispersión')\n",
        "plt.show()"
      ],
      "metadata": {
        "id": "lXtIppFk904p"
      },
      "execution_count": null,
      "outputs": []
    },
    {
      "cell_type": "code",
      "source": [
        "a0=model4.intercept_\n",
        "a1=model4.coef_.flatten()[0:1]\n",
        "a2=model4.coef_.flatten()[1:2]\n",
        "a3=model4.coef_.flatten()[2:3]\n",
        "a4=model4.coef_.flatten()[3:4]\n",
        "\n",
        "print(\"la ecuacion polinómica es y = \",a4,\"*x^4 +\",a3,\"*x^3 +\",a2,\"*x^2 +\",a1,\"x +\",a0)"
      ],
      "metadata": {
        "id": "-7YRqScYMZHn"
      },
      "execution_count": null,
      "outputs": []
    },
    {
      "cell_type": "code",
      "source": [
        "d4 = {'valores reales': y_test['illiteracy'], 'valores predichos': predictions4.flatten()}\n",
        "df_prediccion4=pd.DataFrame(data=d4)\n",
        "df_prediccion4"
      ],
      "metadata": {
        "id": "mbW6baoj92sf"
      },
      "execution_count": null,
      "outputs": []
    },
    {
      "cell_type": "code",
      "source": [
        "mae=mean_absolute_error(y_test,predictions4)\n",
        "mse=mean_squared_error(y_test,predictions4)\n",
        "rmse=mse**(1/2.0)\n",
        "# El Error absoluto promedio\n",
        "print(\"The mean absolte error (MAE) on test set: {:.5f}\".format(mae))\n",
        "\n",
        "# Error cuadrático promedio\n",
        "print(\"The mean squared error (MSE) on test set: {:.4f}\".format(mse))\n",
        "\n",
        "# Raiz cuadrada del error cuadrático medio\n",
        "print(\"The root mean squared error (RMSE) on test set: {:.4f}\".format(rmse)) # raiz cuadrada del error cuadratico medio\n",
        "\n",
        "# R2 Puntaje de Varianza. El mejor puntaje es un 1.0\n",
        "print('Variance score: %.2f' % r2_score(y_test,predictions4))"
      ],
      "metadata": {
        "id": "Ri988ytT98eX"
      },
      "execution_count": null,
      "outputs": []
    }
  ]
}